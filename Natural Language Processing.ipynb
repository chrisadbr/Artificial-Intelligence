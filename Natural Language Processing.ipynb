{
 "cells": [
  {
   "cell_type": "code",
   "execution_count": 1,
   "id": "25042a3e",
   "metadata": {},
   "outputs": [],
   "source": [
    "import nltk\n",
    "import nltk.corpus"
   ]
  },
  {
   "cell_type": "code",
   "execution_count": 2,
   "id": "4c9fb4cb",
   "metadata": {},
   "outputs": [],
   "source": [
    "from nltk.tokenize import word_tokenize"
   ]
  },
  {
   "cell_type": "code",
   "execution_count": 3,
   "id": "c4d83db6",
   "metadata": {},
   "outputs": [],
   "source": [
    "mlk_speech = 'I have a dream that one day every valley shall be exalted, every hill and mountain shall be made low, the rough places will be made plain, and the crooked places will be made straight, and the glory of the Lord shall be revealed, and all flesh shall see it together.'"
   ]
  },
  {
   "cell_type": "code",
   "execution_count": 4,
   "id": "c511713e",
   "metadata": {},
   "outputs": [
    {
     "data": {
      "text/plain": [
       "['I',\n",
       " 'have',\n",
       " 'a',\n",
       " 'dream',\n",
       " 'that',\n",
       " 'one',\n",
       " 'day',\n",
       " 'every',\n",
       " 'valley',\n",
       " 'shall',\n",
       " 'be',\n",
       " 'exalted',\n",
       " ',',\n",
       " 'every',\n",
       " 'hill',\n",
       " 'and',\n",
       " 'mountain',\n",
       " 'shall',\n",
       " 'be',\n",
       " 'made',\n",
       " 'low',\n",
       " ',',\n",
       " 'the',\n",
       " 'rough',\n",
       " 'places',\n",
       " 'will',\n",
       " 'be',\n",
       " 'made',\n",
       " 'plain',\n",
       " ',',\n",
       " 'and',\n",
       " 'the',\n",
       " 'crooked',\n",
       " 'places',\n",
       " 'will',\n",
       " 'be',\n",
       " 'made',\n",
       " 'straight',\n",
       " ',',\n",
       " 'and',\n",
       " 'the',\n",
       " 'glory',\n",
       " 'of',\n",
       " 'the',\n",
       " 'Lord',\n",
       " 'shall',\n",
       " 'be',\n",
       " 'revealed',\n",
       " ',',\n",
       " 'and',\n",
       " 'all',\n",
       " 'flesh',\n",
       " 'shall',\n",
       " 'see',\n",
       " 'it',\n",
       " 'together',\n",
       " '.']"
      ]
     },
     "execution_count": 4,
     "metadata": {},
     "output_type": "execute_result"
    }
   ],
   "source": [
    "mlk_speech_tokens = word_tokenize(mlk_speech)\n",
    "mlk_speech_tokens"
   ]
  },
  {
   "cell_type": "code",
   "execution_count": 5,
   "id": "d0fc2f98",
   "metadata": {},
   "outputs": [
    {
     "data": {
      "text/plain": [
       "(list, 57)"
      ]
     },
     "execution_count": 5,
     "metadata": {},
     "output_type": "execute_result"
    }
   ],
   "source": [
    "type(mlk_speech_tokens), len(mlk_speech_tokens)"
   ]
  },
  {
   "cell_type": "code",
   "execution_count": 6,
   "id": "21b686b7",
   "metadata": {},
   "outputs": [],
   "source": [
    "# Frequency of tokens\n",
    "from nltk.probability import FreqDist\n",
    "fdist = FreqDist()"
   ]
  },
  {
   "cell_type": "code",
   "execution_count": 7,
   "id": "678c8452",
   "metadata": {},
   "outputs": [
    {
     "data": {
      "text/plain": [
       "FreqDist({'be': 5, ',': 5, 'shall': 4, 'and': 4, 'the': 4, 'made': 3, 'every': 2, 'places': 2, 'will': 2, 'I': 1, ...})"
      ]
     },
     "execution_count": 7,
     "metadata": {},
     "output_type": "execute_result"
    }
   ],
   "source": [
    "for idx in mlk_speech_tokens:\n",
    "    fdist[idx] = fdist[idx] + 1\n",
    "fdist"
   ]
  },
  {
   "cell_type": "code",
   "execution_count": 8,
   "id": "2da06454",
   "metadata": {},
   "outputs": [
    {
     "data": {
      "text/plain": [
       "[('be', 5), (',', 5), ('shall', 4), ('and', 4), ('the', 4)]"
      ]
     },
     "execution_count": 8,
     "metadata": {},
     "output_type": "execute_result"
    }
   ],
   "source": [
    "top_5 = fdist.most_common(5)\n",
    "top_5"
   ]
  },
  {
   "cell_type": "code",
   "execution_count": 9,
   "id": "f4dc179a",
   "metadata": {},
   "outputs": [],
   "source": [
    "black_smoke = 'Did you know there was a tower, Where they look out to the land, To see the people quickly passing by'"
   ]
  },
  {
   "cell_type": "code",
   "execution_count": 10,
   "id": "ca738214",
   "metadata": {},
   "outputs": [
    {
     "data": {
      "text/plain": [
       "['Did',\n",
       " 'you',\n",
       " 'know',\n",
       " 'there',\n",
       " 'was',\n",
       " 'a',\n",
       " 'tower',\n",
       " ',',\n",
       " 'Where',\n",
       " 'they',\n",
       " 'look',\n",
       " 'out',\n",
       " 'to',\n",
       " 'the',\n",
       " 'land',\n",
       " ',',\n",
       " 'To',\n",
       " 'see',\n",
       " 'the',\n",
       " 'people',\n",
       " 'quickly',\n",
       " 'passing',\n",
       " 'by']"
      ]
     },
     "execution_count": 10,
     "metadata": {},
     "output_type": "execute_result"
    }
   ],
   "source": [
    "black_smoke_token = word_tokenize(black_smoke)\n",
    "black_smoke_token"
   ]
  },
  {
   "cell_type": "code",
   "execution_count": 11,
   "id": "75bf98a5",
   "metadata": {},
   "outputs": [
    {
     "data": {
      "text/plain": [
       "[('Did', 'you'),\n",
       " ('you', 'know'),\n",
       " ('know', 'there'),\n",
       " ('there', 'was'),\n",
       " ('was', 'a'),\n",
       " ('a', 'tower'),\n",
       " ('tower', ','),\n",
       " (',', 'Where'),\n",
       " ('Where', 'they'),\n",
       " ('they', 'look'),\n",
       " ('look', 'out'),\n",
       " ('out', 'to'),\n",
       " ('to', 'the'),\n",
       " ('the', 'land'),\n",
       " ('land', ','),\n",
       " (',', 'To'),\n",
       " ('To', 'see'),\n",
       " ('see', 'the'),\n",
       " ('the', 'people'),\n",
       " ('people', 'quickly'),\n",
       " ('quickly', 'passing'),\n",
       " ('passing', 'by')]"
      ]
     },
     "execution_count": 11,
     "metadata": {},
     "output_type": "execute_result"
    }
   ],
   "source": [
    "list(nltk.bigrams(black_smoke_token))"
   ]
  },
  {
   "cell_type": "code",
   "execution_count": 12,
   "id": "1d81b407",
   "metadata": {},
   "outputs": [
    {
     "data": {
      "text/plain": [
       "[('Did', 'you', 'know'),\n",
       " ('you', 'know', 'there'),\n",
       " ('know', 'there', 'was'),\n",
       " ('there', 'was', 'a'),\n",
       " ('was', 'a', 'tower'),\n",
       " ('a', 'tower', ','),\n",
       " ('tower', ',', 'Where'),\n",
       " (',', 'Where', 'they'),\n",
       " ('Where', 'they', 'look'),\n",
       " ('they', 'look', 'out'),\n",
       " ('look', 'out', 'to'),\n",
       " ('out', 'to', 'the'),\n",
       " ('to', 'the', 'land'),\n",
       " ('the', 'land', ','),\n",
       " ('land', ',', 'To'),\n",
       " (',', 'To', 'see'),\n",
       " ('To', 'see', 'the'),\n",
       " ('see', 'the', 'people'),\n",
       " ('the', 'people', 'quickly'),\n",
       " ('people', 'quickly', 'passing'),\n",
       " ('quickly', 'passing', 'by')]"
      ]
     },
     "execution_count": 12,
     "metadata": {},
     "output_type": "execute_result"
    }
   ],
   "source": [
    "list(nltk.trigrams(black_smoke_token))"
   ]
  },
  {
   "cell_type": "code",
   "execution_count": 13,
   "id": "a6803f51",
   "metadata": {},
   "outputs": [
    {
     "data": {
      "text/plain": [
       "[('Did', 'you', 'know', 'there'),\n",
       " ('you', 'know', 'there', 'was'),\n",
       " ('know', 'there', 'was', 'a'),\n",
       " ('there', 'was', 'a', 'tower'),\n",
       " ('was', 'a', 'tower', ','),\n",
       " ('a', 'tower', ',', 'Where'),\n",
       " ('tower', ',', 'Where', 'they'),\n",
       " (',', 'Where', 'they', 'look'),\n",
       " ('Where', 'they', 'look', 'out'),\n",
       " ('they', 'look', 'out', 'to'),\n",
       " ('look', 'out', 'to', 'the'),\n",
       " ('out', 'to', 'the', 'land'),\n",
       " ('to', 'the', 'land', ','),\n",
       " ('the', 'land', ',', 'To'),\n",
       " ('land', ',', 'To', 'see'),\n",
       " (',', 'To', 'see', 'the'),\n",
       " ('To', 'see', 'the', 'people'),\n",
       " ('see', 'the', 'people', 'quickly'),\n",
       " ('the', 'people', 'quickly', 'passing'),\n",
       " ('people', 'quickly', 'passing', 'by')]"
      ]
     },
     "execution_count": 13,
     "metadata": {},
     "output_type": "execute_result"
    }
   ],
   "source": [
    "list(nltk.ngrams(black_smoke_token, 4))"
   ]
  },
  {
   "cell_type": "markdown",
   "id": "55467980",
   "metadata": {},
   "source": [
    "# Stemming"
   ]
  },
  {
   "cell_type": "code",
   "execution_count": 14,
   "id": "9d95e586",
   "metadata": {},
   "outputs": [],
   "source": [
    "from nltk.stem import PorterStemmer\n",
    "pst = PorterStemmer()"
   ]
  },
  {
   "cell_type": "code",
   "execution_count": 15,
   "id": "0968128d",
   "metadata": {},
   "outputs": [
    {
     "data": {
      "text/plain": [
       "('win', 'studi', 'buy')"
      ]
     },
     "execution_count": 15,
     "metadata": {},
     "output_type": "execute_result"
    }
   ],
   "source": [
    "pst.stem('winning'), pst.stem('studies'), pst.stem('buying')"
   ]
  },
  {
   "cell_type": "code",
   "execution_count": 16,
   "id": "cd113c37",
   "metadata": {},
   "outputs": [],
   "source": [
    "#pip install WordNetLemmitizer"
   ]
  },
  {
   "cell_type": "code",
   "execution_count": 17,
   "id": "f9378be8",
   "metadata": {},
   "outputs": [],
   "source": [
    "# Lemmatization\n",
    "from nltk.stem import wordnet\n",
    "from nltk.stem import WordNetLemmatizer\n",
    "lemmatizer = WordNetLemmatizer()"
   ]
  },
  {
   "cell_type": "code",
   "execution_count": 18,
   "id": "e8aee24a",
   "metadata": {},
   "outputs": [],
   "source": [
    "words_to_stem = ['cats', 'cacti', 'geese']"
   ]
  },
  {
   "cell_type": "code",
   "execution_count": 19,
   "id": "2b181018",
   "metadata": {},
   "outputs": [
    {
     "name": "stdout",
     "output_type": "stream",
     "text": [
      "cats: cat\n",
      "cacti: cactus\n",
      "geese: goose\n"
     ]
    }
   ],
   "source": [
    "for idx in words_to_stem:\n",
    "    print(idx + \": \" + lemmatizer.lemmatize(idx))"
   ]
  },
  {
   "cell_type": "code",
   "execution_count": 20,
   "id": "4d7dea38",
   "metadata": {},
   "outputs": [],
   "source": [
    "# pos\n",
    "peace = \"Yes I do mean that, 'I believe in God'\""
   ]
  },
  {
   "cell_type": "code",
   "execution_count": 21,
   "id": "af96888c",
   "metadata": {},
   "outputs": [],
   "source": [
    "peace_tokens = word_tokenize(peace)"
   ]
  },
  {
   "cell_type": "code",
   "execution_count": 22,
   "id": "910d8f21",
   "metadata": {},
   "outputs": [
    {
     "data": {
      "text/plain": [
       "['Yes', 'I', 'do', 'mean', 'that', ',', \"'\", 'I', 'believe', 'in', 'God', \"'\"]"
      ]
     },
     "execution_count": 22,
     "metadata": {},
     "output_type": "execute_result"
    }
   ],
   "source": [
    "peace_tokens"
   ]
  },
  {
   "cell_type": "code",
   "execution_count": 23,
   "id": "1b7b57d7",
   "metadata": {},
   "outputs": [
    {
     "name": "stdout",
     "output_type": "stream",
     "text": [
      "[('Yes', 'UH')]\n",
      "[('I', 'PRP')]\n",
      "[('do', 'VB')]\n",
      "[('mean', 'NN')]\n",
      "[('that', 'IN')]\n",
      "[(',', ',')]\n",
      "[(\"'\", \"''\")]\n",
      "[('I', 'PRP')]\n",
      "[('believe', 'VB')]\n",
      "[('in', 'IN')]\n",
      "[('God', 'NNP')]\n",
      "[(\"'\", \"''\")]\n"
     ]
    }
   ],
   "source": [
    "for idx in peace_tokens:\n",
    "    print(nltk.pos_tag([idx]))"
   ]
  },
  {
   "cell_type": "code",
   "execution_count": 24,
   "id": "0d736502",
   "metadata": {},
   "outputs": [],
   "source": [
    "#nltk.download('averaged_perceptron_tagger')"
   ]
  },
  {
   "cell_type": "code",
   "execution_count": 25,
   "id": "71a963d9",
   "metadata": {},
   "outputs": [],
   "source": [
    "mary = \"Mary had a little lamb, whom she really loved\""
   ]
  },
  {
   "cell_type": "code",
   "execution_count": 26,
   "id": "e4d9ce09",
   "metadata": {},
   "outputs": [],
   "source": [
    "mary_token = word_tokenize(mary)"
   ]
  },
  {
   "cell_type": "code",
   "execution_count": 27,
   "id": "8e0597c1",
   "metadata": {},
   "outputs": [
    {
     "name": "stdout",
     "output_type": "stream",
     "text": [
      "[('Mary', 'NNP')]\n",
      "[('had', 'VBD')]\n",
      "[('a', 'DT')]\n",
      "[('little', 'JJ')]\n",
      "[('lamb', 'NN')]\n",
      "[(',', ',')]\n",
      "[('whom', 'WP')]\n",
      "[('she', 'PRP')]\n",
      "[('really', 'RB')]\n",
      "[('loved', 'VBN')]\n"
     ]
    }
   ],
   "source": [
    "for word in mary_token:\n",
    "    print(nltk.pos_tag([word]))"
   ]
  },
  {
   "cell_type": "markdown",
   "id": "ec9f8646",
   "metadata": {},
   "source": [
    "### Named entity Recognition"
   ]
  },
  {
   "cell_type": "code",
   "execution_count": 28,
   "id": "924c6ffe",
   "metadata": {},
   "outputs": [],
   "source": [
    "from nltk import ne_chunk"
   ]
  },
  {
   "cell_type": "code",
   "execution_count": 30,
   "id": "ece753c2",
   "metadata": {},
   "outputs": [],
   "source": [
    "john = \"John lives in New York $ billion\""
   ]
  },
  {
   "cell_type": "code",
   "execution_count": 31,
   "id": "4f49cd35",
   "metadata": {},
   "outputs": [],
   "source": [
    "john_token = word_tokenize(john)"
   ]
  },
  {
   "cell_type": "code",
   "execution_count": 32,
   "id": "edb0b6bd",
   "metadata": {},
   "outputs": [
    {
     "data": {
      "text/plain": [
       "[('John', 'NNP'),\n",
       " ('lives', 'VBZ'),\n",
       " ('in', 'IN'),\n",
       " ('New', 'NNP'),\n",
       " ('York', 'NNP'),\n",
       " ('$', '$'),\n",
       " ('billion', 'CD')]"
      ]
     },
     "execution_count": 32,
     "metadata": {},
     "output_type": "execute_result"
    }
   ],
   "source": [
    "john_tags = nltk.pos_tag(john_token)\n",
    "john_tags"
   ]
  },
  {
   "cell_type": "code",
   "execution_count": 33,
   "id": "22c10a41",
   "metadata": {},
   "outputs": [],
   "source": [
    "#nltk.download('maxent_ne_chunker')"
   ]
  },
  {
   "cell_type": "code",
   "execution_count": 34,
   "id": "c9982e6e",
   "metadata": {},
   "outputs": [],
   "source": [
    "#nltk.download('words')"
   ]
  },
  {
   "cell_type": "code",
   "execution_count": 35,
   "id": "72d935fa",
   "metadata": {},
   "outputs": [
    {
     "name": "stdout",
     "output_type": "stream",
     "text": [
      "(S\n",
      "  (PERSON John/NNP)\n",
      "  lives/VBZ\n",
      "  in/IN\n",
      "  (GPE New/NNP York/NNP)\n",
      "  $/$\n",
      "  billion/CD)\n"
     ]
    }
   ],
   "source": [
    "john_ne = ne_chunk(john_tags)\n",
    "print(john_ne)"
   ]
  },
  {
   "cell_type": "code",
   "execution_count": 36,
   "id": "51e2d8fc",
   "metadata": {},
   "outputs": [],
   "source": [
    "phrase = \"Arusha jiji la Makamba\""
   ]
  },
  {
   "cell_type": "code",
   "execution_count": 37,
   "id": "3f3f4ac2",
   "metadata": {},
   "outputs": [],
   "source": [
    "phrase_tokens = word_tokenize(phrase)"
   ]
  },
  {
   "cell_type": "code",
   "execution_count": 38,
   "id": "15dd581a",
   "metadata": {},
   "outputs": [
    {
     "data": {
      "text/plain": [
       "[('Arusha', 'NNP'), ('jiji', 'NN'), ('la', 'NN'), ('Makamba', 'NNP')]"
      ]
     },
     "execution_count": 38,
     "metadata": {},
     "output_type": "execute_result"
    }
   ],
   "source": [
    "phrase_pos = nltk.pos_tag(phrase_tokens)\n",
    "phrase_pos"
   ]
  },
  {
   "cell_type": "code",
   "execution_count": 39,
   "id": "524a5421",
   "metadata": {},
   "outputs": [
    {
     "data": {
      "image/png": "[encoded data removed]",
      "text/plain": [
       "Tree('S', [Tree('GPE', [('Arusha', 'NNP')]), ('jiji', 'NN'), ('la', 'NN'), Tree('PERSON', [('Makamba', 'NNP')])])"
      ]
     },
     "execution_count": 39,
     "metadata": {},
     "output_type": "execute_result"
    }
   ],
   "source": [
    "phrase_ner = ne_chunk(phrase_pos)\n",
    "phrase_ner"
   ]
  },
  {
   "cell_type": "code",
   "execution_count": 40,
   "id": "57a95b31",
   "metadata": {},
   "outputs": [],
   "source": [
    "#pip install spacy"
   ]
  },
  {
   "cell_type": "code",
   "execution_count": 41,
   "id": "7afdf62a",
   "metadata": {},
   "outputs": [],
   "source": [
    "#pip install -U pip setuptools wheel"
   ]
  },
  {
   "cell_type": "code",
   "execution_count": 42,
   "id": "711cfcd4",
   "metadata": {},
   "outputs": [],
   "source": [
    "#pip install pyparsing==2.4.2"
   ]
  },
  {
   "cell_type": "code",
   "execution_count": null,
   "id": "63e79db1",
   "metadata": {},
   "outputs": [],
   "source": []
  }
 ],
 "metadata": {
  "kernelspec": {
   "display_name": "Python 3 (ipykernel)",
   "language": "python",
   "name": "python3"
  },
  "language_info": {
   "codemirror_mode": {
    "name": "ipython",
    "version": 3
   },
   "file_extension": ".py",
   "mimetype": "text/x-python",
   "name": "python",
   "nbconvert_exporter": "python",
   "pygments_lexer": "ipython3",
   "version": "3.9.0"
  }
 },
 "nbformat": 4,
 "nbformat_minor": 5
}
