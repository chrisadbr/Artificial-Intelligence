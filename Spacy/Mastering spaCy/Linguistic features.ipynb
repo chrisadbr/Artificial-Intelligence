{
 "cells": [
  {
   "cell_type": "code",
   "execution_count": 14,
   "id": "3dca0145",
   "metadata": {},
   "outputs": [],
   "source": [
    "import spacy\n",
    "import pandas as pd\n",
    "from spacy import displacy\n",
    "nlp = spacy.load('en_core_web_md')"
   ]
  },
  {
   "cell_type": "code",
   "execution_count": 2,
   "id": "c13269b2",
   "metadata": {},
   "outputs": [
    {
     "name": "stdout",
     "output_type": "stream",
     "text": [
      "Alicia PROPN proper noun NNP noun, proper singular\n",
      "and CCONJ coordinating conjunction CC conjunction, coordinating\n",
      "me PRON pronoun PRP pronoun, personal\n",
      "went VERB verb VBD verb, past tense\n",
      "to ADP adposition IN conjunction, subordinating or preposition\n",
      "school NOUN noun NN noun, singular or mass\n",
      "by ADP adposition IN conjunction, subordinating or preposition\n",
      "bus NOUN noun NN noun, singular or mass\n",
      ". PUNCT punctuation . punctuation mark, sentence closer\n"
     ]
    }
   ],
   "source": [
    "doc = nlp(\"Alicia and me went to school by bus.\")\n",
    "\n",
    "for token in doc:\n",
    "    print(token.text, token.pos_, spacy.explain(token.pos_), token.tag_, spacy.explain(token.tag_))"
   ]
  },
  {
   "cell_type": "code",
   "execution_count": 3,
   "id": "eaea0f9b",
   "metadata": {},
   "outputs": [
    {
     "name": "stdout",
     "output_type": "stream",
     "text": [
      "My PRON PRP$ pronoun pronoun, possessive\n",
      "friend NOUN NN noun noun, singular or mass\n",
      "will AUX MD auxiliary verb, modal auxiliary\n",
      "fly VERB VB verb verb, base form\n",
      "to ADP IN adposition conjunction, subordinating or preposition\n",
      "New PROPN NNP proper noun noun, proper singular\n",
      "York PROPN NNP proper noun noun, proper singular\n",
      "fast ADV RB adverb adverb\n",
      "and CCONJ CC coordinating conjunction conjunction, coordinating\n",
      "she PRON PRP pronoun pronoun, personal\n",
      "is AUX VBZ auxiliary verb, 3rd person singular present\n",
      "staying VERB VBG verb verb, gerund or present participle\n",
      "there ADV RB adverb adverb\n",
      "for ADP IN adposition conjunction, subordinating or preposition\n",
      "3 NUM CD numeral cardinal number\n",
      "days NOUN NNS noun noun, plural\n",
      ". PUNCT . punctuation punctuation mark, sentence closer\n"
     ]
    }
   ],
   "source": [
    "doc2 = nlp(\"My friend will fly to New York fast and she is staying there for 3 days.\")\n",
    "\n",
    "for token in doc2:\n",
    "    print(token.text, token.pos_, token.tag_, \n",
    "         spacy.explain(token.pos_), spacy.explain(token.tag_))"
   ]
  },
  {
   "cell_type": "code",
   "execution_count": 4,
   "id": "2b2096a7",
   "metadata": {},
   "outputs": [
    {
     "name": "stdout",
     "output_type": "stream",
     "text": [
      "I PRON PRP pronoun, personal\n",
      "will AUX MD verb, modal auxiliary\n",
      "ship VERB VB verb, base form\n",
      "my PRON PRP$ pronoun, possessive\n",
      "the DET DT determiner\n",
      "items NOUN NNS noun, plural\n",
      "tommorow PROPN NNP noun, proper singular\n",
      ". PUNCT . punctuation mark, sentence closer\n",
      "The DET DT determiner\n",
      "ship NOUN NN noun, singular or mass\n",
      "is AUX VBZ verb, 3rd person singular present\n",
      "leaving VERB VBG verb, gerund or present participle\n",
      "tommorow PROPN NNP noun, proper singular\n",
      ". PUNCT . punctuation mark, sentence closer\n"
     ]
    }
   ],
   "source": [
    "## Lets use a word that can be both noun/verb (ship)\n",
    "\n",
    "doc3 = nlp(\"I will ship my the items tommorow. The ship is leaving tommorow.\")\n",
    "for token in doc3:\n",
    "    print(token.text, token.pos_, token.tag_, spacy.explain(token.tag_))"
   ]
  },
  {
   "cell_type": "code",
   "execution_count": 5,
   "id": "576df064",
   "metadata": {},
   "outputs": [
    {
     "name": "stdout",
     "output_type": "stream",
     "text": [
      "My PRON PRP$ pronoun pronoun, possessive\n",
      "cat NOUN NN noun noun, singular or mass\n",
      "will AUX MD auxiliary verb, modal auxiliary\n",
      "fish VERB VB verb verb, base form\n",
      "for ADP IN adposition conjunction, subordinating or preposition\n",
      "a DET DT determiner determiner\n",
      "fish NOUN NN noun noun, singular or mass\n",
      "tommorow NOUN NN noun noun, singular or mass\n",
      "in ADP IN adposition conjunction, subordinating or preposition\n",
      "a DET DT determiner determiner\n",
      "fishy ADJ JJ adjective adjective (English), other noun-modifier (Chinese)\n",
      "way NOUN NN noun noun, singular or mass\n",
      ". PUNCT . punctuation punctuation mark, sentence closer\n"
     ]
    }
   ],
   "source": [
    "doc4 = nlp(\"My cat will fish for a fish tommorow in a fishy way.\")\n",
    "\n",
    "for token in doc4:\n",
    "    print(token.text, token.pos_, token.tag_, spacy.explain(token.pos_), spacy.explain(token.tag_))"
   ]
  },
  {
   "cell_type": "markdown",
   "id": "2a137db7",
   "metadata": {},
   "source": [
    "### Dealing with WSD (Word-Sense Disambiguation)"
   ]
  },
  {
   "cell_type": "markdown",
   "id": "7e5c717d",
   "metadata": {},
   "source": [
    "#### Filtering sentences with intent to book a flight"
   ]
  },
  {
   "cell_type": "markdown",
   "id": "e99daf31",
   "metadata": {},
   "source": [
    "I flew to Rome 3 days ago. I still didn't get the bill, please send it ASAP. <br />\n",
    "I have flown to Rome this morning and forgot my laptop on the\n",
    "airplane. Can you please connect me to lost and found?<br />\n",
    "I'm flying to Rome next week. Can you check flight availability? <br />\n",
    "I need to fly to Rome. Can you check flights on next Tuesday? <br />\n",
    "I will fly to Rome next week. Can you check the flights?"
   ]
  },
  {
   "cell_type": "code",
   "execution_count": 6,
   "id": "39cec9dd",
   "metadata": {},
   "outputs": [],
   "source": [
    "sent1 = \"I flew to Rome\"\n",
    "sent2 = \"I'm flying to Rome\"\n",
    "sent3 = \"I will fly to Rome\"\n",
    "sent4 = \"I have flown to Rome\""
   ]
  },
  {
   "cell_type": "code",
   "execution_count": 7,
   "id": "7be857ad",
   "metadata": {},
   "outputs": [],
   "source": [
    "doc5 = nlp(sent1)\n",
    "doc6 = nlp(sent2)\n",
    "doc7 = nlp(sent3)\n",
    "doc8 = nlp(sent4)"
   ]
  },
  {
   "cell_type": "code",
   "execution_count": 8,
   "id": "b394aff6",
   "metadata": {},
   "outputs": [
    {
     "name": "stdout",
     "output_type": "stream",
     "text": [
      "[]\n",
      "[('flying', 'fly')]\n",
      "[('fly', 'fly')]\n",
      "[]\n",
      "Therefore second and third sentence have shown interest in booking a flight\n"
     ]
    }
   ],
   "source": [
    "for doc in [doc5, doc6, doc7, doc8]:\n",
    "    print([(w.text, w.lemma_) for w in doc if w.tag_ == 'VBG' or w.tag_ == 'VB'])\n",
    "print(\"Therefore second and third sentence have shown interest in booking a flight\")"
   ]
  },
  {
   "cell_type": "markdown",
   "id": "62a775ad",
   "metadata": {},
   "source": [
    "### Understanding number, symbol, and punctuation tags"
   ]
  },
  {
   "cell_type": "code",
   "execution_count": 9,
   "id": "6e10fa24",
   "metadata": {},
   "outputs": [
    {
     "name": "stdout",
     "output_type": "stream",
     "text": [
      "He PRP pronoun, personal\n",
      "earned VBD verb, past tense\n",
      "$ $ symbol, currency\n",
      "5 CD cardinal number\n",
      "million CD cardinal number\n",
      "in IN conjunction, subordinating or preposition\n",
      "2020 CD cardinal number\n",
      "and CC conjunction, coordinating\n",
      "paid VBD verb, past tense\n",
      "35 CD cardinal number\n",
      "% NN noun, singular or mass\n",
      "in IN conjunction, subordinating or preposition\n",
      "tax NN noun, singular or mass\n",
      ". . punctuation mark, sentence closer\n"
     ]
    }
   ],
   "source": [
    "doc9 = nlp(\"He earned $5 million in 2020 and paid 35% in tax.\")\n",
    "\n",
    "for token in doc9:\n",
    "    print(token.text, token.tag_, spacy.explain(token.tag_))"
   ]
  },
  {
   "cell_type": "code",
   "execution_count": 10,
   "id": "2b4c3c61",
   "metadata": {},
   "outputs": [
    {
     "name": "stdout",
     "output_type": "stream",
     "text": [
      "red amod\n",
      "bottle ROOT\n"
     ]
    }
   ],
   "source": [
    "doc10 = nlp(\"red bottle\")\n",
    "for token in doc10:\n",
    "    print(token.text, token.dep_)\n",
    "# amod is a dependency label for an adjective-noun relation\n",
    "# ROOT represents the root of the phrase"
   ]
  },
  {
   "cell_type": "markdown",
   "id": "ba9c6b5d",
   "metadata": {},
   "source": [
    "### Dependency tree"
   ]
  },
  {
   "cell_type": "code",
   "execution_count": 17,
   "id": "53b03126",
   "metadata": {},
   "outputs": [
    {
     "name": "stdout",
     "output_type": "stream",
     "text": [
      "I PRON nsubj counted\n",
      "counted VERB ROOT counted\n",
      "white ADJ amod sheep\n",
      "sheep NOUN dobj counted\n"
     ]
    },
    {
     "data": {
      "text/html": [
       "<span class=\"tex2jax_ignore\"><svg xmlns=\"http://www.w3.org/2000/svg\" xmlns:xlink=\"http://www.w3.org/1999/xlink\" xml:lang=\"en\" id=\"5d573d6a8a274e22b4041f17a1d39874-0\" class=\"displacy\" width=\"750\" height=\"312.0\" direction=\"ltr\" style=\"max-width: none; height: 312.0px; color: #000000; background: #ffffff; font-family: Arial; direction: ltr\">\n",
       "<text class=\"displacy-token\" fill=\"currentColor\" text-anchor=\"middle\" y=\"222.0\">\n",
       "    <tspan class=\"displacy-word\" fill=\"currentColor\" x=\"50\">I</tspan>\n",
       "    <tspan class=\"displacy-tag\" dy=\"2em\" fill=\"currentColor\" x=\"50\">PRON</tspan>\n",
       "</text>\n",
       "\n",
       "<text class=\"displacy-token\" fill=\"currentColor\" text-anchor=\"middle\" y=\"222.0\">\n",
       "    <tspan class=\"displacy-word\" fill=\"currentColor\" x=\"225\">counted</tspan>\n",
       "    <tspan class=\"displacy-tag\" dy=\"2em\" fill=\"currentColor\" x=\"225\">VERB</tspan>\n",
       "</text>\n",
       "\n",
       "<text class=\"displacy-token\" fill=\"currentColor\" text-anchor=\"middle\" y=\"222.0\">\n",
       "    <tspan class=\"displacy-word\" fill=\"currentColor\" x=\"400\">white</tspan>\n",
       "    <tspan class=\"displacy-tag\" dy=\"2em\" fill=\"currentColor\" x=\"400\">ADJ</tspan>\n",
       "</text>\n",
       "\n",
       "<text class=\"displacy-token\" fill=\"currentColor\" text-anchor=\"middle\" y=\"222.0\">\n",
       "    <tspan class=\"displacy-word\" fill=\"currentColor\" x=\"575\">sheep</tspan>\n",
       "    <tspan class=\"displacy-tag\" dy=\"2em\" fill=\"currentColor\" x=\"575\">NOUN</tspan>\n",
       "</text>\n",
       "\n",
       "<g class=\"displacy-arrow\">\n",
       "    <path class=\"displacy-arc\" id=\"arrow-5d573d6a8a274e22b4041f17a1d39874-0-0\" stroke-width=\"2px\" d=\"M70,177.0 C70,89.5 220.0,89.5 220.0,177.0\" fill=\"none\" stroke=\"currentColor\"/>\n",
       "    <text dy=\"1.25em\" style=\"font-size: 0.8em; letter-spacing: 1px\">\n",
       "        <textPath xlink:href=\"#arrow-5d573d6a8a274e22b4041f17a1d39874-0-0\" class=\"displacy-label\" startOffset=\"50%\" side=\"left\" fill=\"currentColor\" text-anchor=\"middle\">nsubj</textPath>\n",
       "    </text>\n",
       "    <path class=\"displacy-arrowhead\" d=\"M70,179.0 L62,167.0 78,167.0\" fill=\"currentColor\"/>\n",
       "</g>\n",
       "\n",
       "<g class=\"displacy-arrow\">\n",
       "    <path class=\"displacy-arc\" id=\"arrow-5d573d6a8a274e22b4041f17a1d39874-0-1\" stroke-width=\"2px\" d=\"M420,177.0 C420,89.5 570.0,89.5 570.0,177.0\" fill=\"none\" stroke=\"currentColor\"/>\n",
       "    <text dy=\"1.25em\" style=\"font-size: 0.8em; letter-spacing: 1px\">\n",
       "        <textPath xlink:href=\"#arrow-5d573d6a8a274e22b4041f17a1d39874-0-1\" class=\"displacy-label\" startOffset=\"50%\" side=\"left\" fill=\"currentColor\" text-anchor=\"middle\">amod</textPath>\n",
       "    </text>\n",
       "    <path class=\"displacy-arrowhead\" d=\"M420,179.0 L412,167.0 428,167.0\" fill=\"currentColor\"/>\n",
       "</g>\n",
       "\n",
       "<g class=\"displacy-arrow\">\n",
       "    <path class=\"displacy-arc\" id=\"arrow-5d573d6a8a274e22b4041f17a1d39874-0-2\" stroke-width=\"2px\" d=\"M245,177.0 C245,2.0 575.0,2.0 575.0,177.0\" fill=\"none\" stroke=\"currentColor\"/>\n",
       "    <text dy=\"1.25em\" style=\"font-size: 0.8em; letter-spacing: 1px\">\n",
       "        <textPath xlink:href=\"#arrow-5d573d6a8a274e22b4041f17a1d39874-0-2\" class=\"displacy-label\" startOffset=\"50%\" side=\"left\" fill=\"currentColor\" text-anchor=\"middle\">dobj</textPath>\n",
       "    </text>\n",
       "    <path class=\"displacy-arrowhead\" d=\"M575.0,179.0 L583.0,167.0 567.0,167.0\" fill=\"currentColor\"/>\n",
       "</g>\n",
       "</svg></span>"
      ],
      "text/plain": [
       "<IPython.core.display.HTML object>"
      ]
     },
     "metadata": {},
     "output_type": "display_data"
    },
    {
     "name": "stdout",
     "output_type": "stream",
     "text": [
      "None\n"
     ]
    }
   ],
   "source": [
    "doc11 = nlp(\"I counted white sheep\")\n",
    "for token in doc11:\n",
    "    print(token.text, token.pos_, token.dep_, token.head)\n",
    "print(displacy.render(doc11, style = 'dep'))"
   ]
  },
  {
   "cell_type": "code",
   "execution_count": 13,
   "id": "74c09f09",
   "metadata": {},
   "outputs": [
    {
     "name": "stdout",
     "output_type": "stream",
     "text": [
      "We PRP PRON nsubj trying\n",
      "are VBP AUX aux trying\n",
      "trying VBG VERB ROOT trying\n",
      "to TO PART aux understand\n",
      "understand VB VERB xcomp trying\n",
      "the DT DET det difference\n",
      "difference NN NOUN dobj understand\n",
      ". . PUNCT punct trying\n"
     ]
    }
   ],
   "source": [
    "doc12 = nlp(\"We are trying to understand the difference.\")\n",
    "\n",
    "for token in doc12:\n",
    "    print(token.text, token.tag_, token.pos_, token.dep_, token.head)"
   ]
  },
  {
   "cell_type": "code",
   "execution_count": 15,
   "id": "5b73bcc0",
   "metadata": {},
   "outputs": [
    {
     "data": {
      "text/html": [
       "<span class=\"tex2jax_ignore\"><svg xmlns=\"http://www.w3.org/2000/svg\" xmlns:xlink=\"http://www.w3.org/1999/xlink\" xml:lang=\"en\" id=\"3a24a50aa3694343965edfb08859d665-0\" class=\"displacy\" width=\"1275\" height=\"312.0\" direction=\"ltr\" style=\"max-width: none; height: 312.0px; color: #000000; background: #ffffff; font-family: Arial; direction: ltr\">\n",
       "<text class=\"displacy-token\" fill=\"currentColor\" text-anchor=\"middle\" y=\"222.0\">\n",
       "    <tspan class=\"displacy-word\" fill=\"currentColor\" x=\"50\">We</tspan>\n",
       "    <tspan class=\"displacy-tag\" dy=\"2em\" fill=\"currentColor\" x=\"50\">PRON</tspan>\n",
       "</text>\n",
       "\n",
       "<text class=\"displacy-token\" fill=\"currentColor\" text-anchor=\"middle\" y=\"222.0\">\n",
       "    <tspan class=\"displacy-word\" fill=\"currentColor\" x=\"225\">are</tspan>\n",
       "    <tspan class=\"displacy-tag\" dy=\"2em\" fill=\"currentColor\" x=\"225\">AUX</tspan>\n",
       "</text>\n",
       "\n",
       "<text class=\"displacy-token\" fill=\"currentColor\" text-anchor=\"middle\" y=\"222.0\">\n",
       "    <tspan class=\"displacy-word\" fill=\"currentColor\" x=\"400\">trying</tspan>\n",
       "    <tspan class=\"displacy-tag\" dy=\"2em\" fill=\"currentColor\" x=\"400\">VERB</tspan>\n",
       "</text>\n",
       "\n",
       "<text class=\"displacy-token\" fill=\"currentColor\" text-anchor=\"middle\" y=\"222.0\">\n",
       "    <tspan class=\"displacy-word\" fill=\"currentColor\" x=\"575\">to</tspan>\n",
       "    <tspan class=\"displacy-tag\" dy=\"2em\" fill=\"currentColor\" x=\"575\">PART</tspan>\n",
       "</text>\n",
       "\n",
       "<text class=\"displacy-token\" fill=\"currentColor\" text-anchor=\"middle\" y=\"222.0\">\n",
       "    <tspan class=\"displacy-word\" fill=\"currentColor\" x=\"750\">understand</tspan>\n",
       "    <tspan class=\"displacy-tag\" dy=\"2em\" fill=\"currentColor\" x=\"750\">VERB</tspan>\n",
       "</text>\n",
       "\n",
       "<text class=\"displacy-token\" fill=\"currentColor\" text-anchor=\"middle\" y=\"222.0\">\n",
       "    <tspan class=\"displacy-word\" fill=\"currentColor\" x=\"925\">the</tspan>\n",
       "    <tspan class=\"displacy-tag\" dy=\"2em\" fill=\"currentColor\" x=\"925\">DET</tspan>\n",
       "</text>\n",
       "\n",
       "<text class=\"displacy-token\" fill=\"currentColor\" text-anchor=\"middle\" y=\"222.0\">\n",
       "    <tspan class=\"displacy-word\" fill=\"currentColor\" x=\"1100\">difference.</tspan>\n",
       "    <tspan class=\"displacy-tag\" dy=\"2em\" fill=\"currentColor\" x=\"1100\">NOUN</tspan>\n",
       "</text>\n",
       "\n",
       "<g class=\"displacy-arrow\">\n",
       "    <path class=\"displacy-arc\" id=\"arrow-3a24a50aa3694343965edfb08859d665-0-0\" stroke-width=\"2px\" d=\"M70,177.0 C70,2.0 400.0,2.0 400.0,177.0\" fill=\"none\" stroke=\"currentColor\"/>\n",
       "    <text dy=\"1.25em\" style=\"font-size: 0.8em; letter-spacing: 1px\">\n",
       "        <textPath xlink:href=\"#arrow-3a24a50aa3694343965edfb08859d665-0-0\" class=\"displacy-label\" startOffset=\"50%\" side=\"left\" fill=\"currentColor\" text-anchor=\"middle\">nsubj</textPath>\n",
       "    </text>\n",
       "    <path class=\"displacy-arrowhead\" d=\"M70,179.0 L62,167.0 78,167.0\" fill=\"currentColor\"/>\n",
       "</g>\n",
       "\n",
       "<g class=\"displacy-arrow\">\n",
       "    <path class=\"displacy-arc\" id=\"arrow-3a24a50aa3694343965edfb08859d665-0-1\" stroke-width=\"2px\" d=\"M245,177.0 C245,89.5 395.0,89.5 395.0,177.0\" fill=\"none\" stroke=\"currentColor\"/>\n",
       "    <text dy=\"1.25em\" style=\"font-size: 0.8em; letter-spacing: 1px\">\n",
       "        <textPath xlink:href=\"#arrow-3a24a50aa3694343965edfb08859d665-0-1\" class=\"displacy-label\" startOffset=\"50%\" side=\"left\" fill=\"currentColor\" text-anchor=\"middle\">aux</textPath>\n",
       "    </text>\n",
       "    <path class=\"displacy-arrowhead\" d=\"M245,179.0 L237,167.0 253,167.0\" fill=\"currentColor\"/>\n",
       "</g>\n",
       "\n",
       "<g class=\"displacy-arrow\">\n",
       "    <path class=\"displacy-arc\" id=\"arrow-3a24a50aa3694343965edfb08859d665-0-2\" stroke-width=\"2px\" d=\"M595,177.0 C595,89.5 745.0,89.5 745.0,177.0\" fill=\"none\" stroke=\"currentColor\"/>\n",
       "    <text dy=\"1.25em\" style=\"font-size: 0.8em; letter-spacing: 1px\">\n",
       "        <textPath xlink:href=\"#arrow-3a24a50aa3694343965edfb08859d665-0-2\" class=\"displacy-label\" startOffset=\"50%\" side=\"left\" fill=\"currentColor\" text-anchor=\"middle\">aux</textPath>\n",
       "    </text>\n",
       "    <path class=\"displacy-arrowhead\" d=\"M595,179.0 L587,167.0 603,167.0\" fill=\"currentColor\"/>\n",
       "</g>\n",
       "\n",
       "<g class=\"displacy-arrow\">\n",
       "    <path class=\"displacy-arc\" id=\"arrow-3a24a50aa3694343965edfb08859d665-0-3\" stroke-width=\"2px\" d=\"M420,177.0 C420,2.0 750.0,2.0 750.0,177.0\" fill=\"none\" stroke=\"currentColor\"/>\n",
       "    <text dy=\"1.25em\" style=\"font-size: 0.8em; letter-spacing: 1px\">\n",
       "        <textPath xlink:href=\"#arrow-3a24a50aa3694343965edfb08859d665-0-3\" class=\"displacy-label\" startOffset=\"50%\" side=\"left\" fill=\"currentColor\" text-anchor=\"middle\">xcomp</textPath>\n",
       "    </text>\n",
       "    <path class=\"displacy-arrowhead\" d=\"M750.0,179.0 L758.0,167.0 742.0,167.0\" fill=\"currentColor\"/>\n",
       "</g>\n",
       "\n",
       "<g class=\"displacy-arrow\">\n",
       "    <path class=\"displacy-arc\" id=\"arrow-3a24a50aa3694343965edfb08859d665-0-4\" stroke-width=\"2px\" d=\"M945,177.0 C945,89.5 1095.0,89.5 1095.0,177.0\" fill=\"none\" stroke=\"currentColor\"/>\n",
       "    <text dy=\"1.25em\" style=\"font-size: 0.8em; letter-spacing: 1px\">\n",
       "        <textPath xlink:href=\"#arrow-3a24a50aa3694343965edfb08859d665-0-4\" class=\"displacy-label\" startOffset=\"50%\" side=\"left\" fill=\"currentColor\" text-anchor=\"middle\">det</textPath>\n",
       "    </text>\n",
       "    <path class=\"displacy-arrowhead\" d=\"M945,179.0 L937,167.0 953,167.0\" fill=\"currentColor\"/>\n",
       "</g>\n",
       "\n",
       "<g class=\"displacy-arrow\">\n",
       "    <path class=\"displacy-arc\" id=\"arrow-3a24a50aa3694343965edfb08859d665-0-5\" stroke-width=\"2px\" d=\"M770,177.0 C770,2.0 1100.0,2.0 1100.0,177.0\" fill=\"none\" stroke=\"currentColor\"/>\n",
       "    <text dy=\"1.25em\" style=\"font-size: 0.8em; letter-spacing: 1px\">\n",
       "        <textPath xlink:href=\"#arrow-3a24a50aa3694343965edfb08859d665-0-5\" class=\"displacy-label\" startOffset=\"50%\" side=\"left\" fill=\"currentColor\" text-anchor=\"middle\">dobj</textPath>\n",
       "    </text>\n",
       "    <path class=\"displacy-arrowhead\" d=\"M1100.0,179.0 L1108.0,167.0 1092.0,167.0\" fill=\"currentColor\"/>\n",
       "</g>\n",
       "</svg></span>"
      ],
      "text/plain": [
       "<IPython.core.display.HTML object>"
      ]
     },
     "metadata": {},
     "output_type": "display_data"
    }
   ],
   "source": [
    "displacy.render(doc12, style = 'dep')"
   ]
  },
  {
   "cell_type": "markdown",
   "id": "b76869fd",
   "metadata": {},
   "source": [
    "### Named Entity Recognition"
   ]
  },
  {
   "cell_type": "code",
   "execution_count": 18,
   "id": "03e7a4c7",
   "metadata": {},
   "outputs": [
    {
     "data": {
      "text/plain": [
       "(Trump, France)"
      ]
     },
     "execution_count": 18,
     "metadata": {},
     "output_type": "execute_result"
    }
   ],
   "source": [
    "doc13 = nlp(\"President Trump visited France\")\n",
    "doc13.ents"
   ]
  },
  {
   "cell_type": "code",
   "execution_count": 23,
   "id": "0cada460",
   "metadata": {},
   "outputs": [
    {
     "name": "stdout",
     "output_type": "stream",
     "text": [
      "I \n",
      "worked \n",
      "for \n",
      "Microsoft ORG\n",
      "last DATE\n",
      "year DATE\n"
     ]
    }
   ],
   "source": [
    "doc14 = nlp(\"I worked for Microsoft last year\")\n",
    "for token in doc14:\n",
    "    print(token.text, token.ent_type_)"
   ]
  },
  {
   "cell_type": "code",
   "execution_count": 27,
   "id": "53e41f29",
   "metadata": {},
   "outputs": [
    {
     "name": "stdout",
     "output_type": "stream",
     "text": [
      "Albert PERSON [ People, including fictional ]\n",
      "Einstein PERSON [ People, including fictional ]\n",
      "was  [ None ]\n",
      "born  [ None ]\n",
      "in  [ None ]\n",
      "Ulm GPE [ Countries, cities, states ]\n",
      "on  [ None ]\n",
      "1879 DATE [ Absolute or relative dates or periods ]\n",
      ".  [ None ]\n",
      "He  [ None ]\n",
      "studied  [ None ]\n",
      "electronical  [ None ]\n",
      "engineering  [ None ]\n",
      "at  [ None ]\n",
      "ETH ORG [ Companies, agencies, institutions, etc. ]\n",
      "Zurich ORG [ Companies, agencies, institutions, etc. ]\n",
      ".  [ None ]\n"
     ]
    }
   ],
   "source": [
    "doc15 = nlp(\"Albert Einstein was born in Ulm on 1879. He studied electronical engineering at ETH Zurich.\")\n",
    "for token in doc15:\n",
    "    print(token.text, token.ent_type_, '[', spacy.explain(token.ent_type_), ']')"
   ]
  },
  {
   "cell_type": "code",
   "execution_count": 28,
   "id": "281f8e9a",
   "metadata": {},
   "outputs": [
    {
     "data": {
      "text/plain": [
       "(Jean-Michel Basquiat, American, Haitian, Puerto Rican)"
      ]
     },
     "execution_count": 28,
     "metadata": {},
     "output_type": "execute_result"
    }
   ],
   "source": [
    "doc = nlp(\"Jean-Michel Basquiat was an American artist of Haitian and Puerto Rican descent who gained fame with\"\n",
    "          \"his graffiti and street art work\")\n",
    "doc.ents"
   ]
  },
  {
   "cell_type": "code",
   "execution_count": 32,
   "id": "c2a105a3",
   "metadata": {},
   "outputs": [
    {
     "name": "stdout",
     "output_type": "stream",
     "text": [
      "Jean-Michel Basquiat PERSON ( People, including fictional )\n",
      "American NORP ( Nationalities or religious or political groups )\n",
      "Haitian GPE ( Countries, cities, states )\n",
      "Puerto Rican NORP ( Nationalities or religious or political groups )\n"
     ]
    }
   ],
   "source": [
    "for ent in doc.ents:\n",
    "    print(ent.text, ent.label_, '( %s )' %(spacy.explain(ent.label_)))"
   ]
  },
  {
   "cell_type": "markdown",
   "id": "7679e148",
   "metadata": {},
   "source": [
    "### Real - world example"
   ]
  },
  {
   "cell_type": "markdown",
   "id": "c9b090af",
   "metadata": {},
   "source": [
    "NER is a popular and frequently used pipeline component of spaCy. NER is\n",
    "one of the key components of understanding the text topic, as named\n",
    "entities usually belong to a semantic category. For instance, President\n",
    "Trump invokes the politics subject in our minds, whereas Leonardo\n",
    "DiCaprio is more about movies. If you want to go deeper into resolving the\n",
    "text meaning and understanding who made what, you also need named\n",
    "entities.\n",
    "This real-world example includes processing a New York Times article. Let's\n",
    "go ahead and download the article first by running the following code:"
   ]
  },
  {
   "cell_type": "code",
   "execution_count": 36,
   "id": "22bf6b59",
   "metadata": {},
   "outputs": [],
   "source": [
    "from bs4 import BeautifulSoup\n",
    "import requests"
   ]
  },
  {
   "cell_type": "code",
   "execution_count": 45,
   "id": "4cf27b8c",
   "metadata": {},
   "outputs": [],
   "source": [
    "def url_text(url_string):\n",
    "    res = requests.get(url_string)\n",
    "    \n",
    "    html = res.text\n",
    "    soup = BeautifulSoup(html, 'html.parser')\n",
    "    \n",
    "    for script in soup([\"script\", \"style\", \"aside\"]):\n",
    "        script.extract()\n",
    "    text = soup.get_text()\n",
    "    \n",
    "    return \" \".join(text.split())"
   ]
  },
  {
   "cell_type": "code",
   "execution_count": 51,
   "id": "50b03455",
   "metadata": {},
   "outputs": [],
   "source": [
    "ap_art = url_text(\"https://apnews.com/article/donald-trump-mar-a-lago-criminal-investigations-government-\"\n",
    "                  \"and-politics-4ee554f467252929f96c70d42a93a05d?utm_source=homepage&utm_medium=TopNews&utm_campaign=position_1\")\n",
    "ap_article = open(\"article.txt\", \"w\")\n",
    "ap_article.writelines(ap_art)\n",
    "ap_article.close()"
   ]
  },
  {
   "cell_type": "code",
   "execution_count": 53,
   "id": "df247c0a",
   "metadata": {},
   "outputs": [
    {
     "data": {
      "text/plain": [
       "118"
      ]
     },
     "execution_count": 53,
     "metadata": {},
     "output_type": "execute_result"
    }
   ],
   "source": [
    "doc = nlp(ap_art)\n",
    "len(doc.ents)"
   ]
  },
  {
   "cell_type": "code",
   "execution_count": 54,
   "id": "92f57a64",
   "metadata": {},
   "outputs": [],
   "source": [
    "from collections import Counter\n",
    "\n",
    "labels = [ent.label_ for ent in doc.ents]"
   ]
  },
  {
   "cell_type": "code",
   "execution_count": 55,
   "id": "ce802921",
   "metadata": {},
   "outputs": [
    {
     "data": {
      "text/plain": [
       "Counter({'ORG': 50,\n",
       "         'NORP': 3,\n",
       "         'GPE': 9,\n",
       "         'PERSON': 19,\n",
       "         'DATE': 21,\n",
       "         'CARDINAL': 12,\n",
       "         'ORDINAL': 2,\n",
       "         'LAW': 1,\n",
       "         'WORK_OF_ART': 1})"
      ]
     },
     "execution_count": 55,
     "metadata": {},
     "output_type": "execute_result"
    }
   ],
   "source": [
    "Counter(labels)"
   ]
  },
  {
   "cell_type": "code",
   "execution_count": 58,
   "id": "66768ae7",
   "metadata": {},
   "outputs": [
    {
     "data": {
      "text/plain": [
       "[('Trump', 12),\n",
       " ('FBI', 10),\n",
       " ('Friday', 6),\n",
       " ('U.S.', 4),\n",
       " ('the Justice Department', 4),\n",
       " ('Bruce Reinhart', 3),\n",
       " ('15', 3),\n",
       " ('AP', 2),\n",
       " (\"Donald Trump's\", 2),\n",
       " ('Friday, Aug. 26, 2022', 2),\n",
       " ('the White House', 2),\n",
       " ('first', 2),\n",
       " ('Aug. 8', 2),\n",
       " ('Justice Department', 2),\n",
       " ('Congress', 2)]"
      ]
     },
     "execution_count": 58,
     "metadata": {},
     "output_type": "execute_result"
    }
   ],
   "source": [
    "items = [ent.text for ent in doc.ents]\n",
    "Counter(items).most_common(15)"
   ]
  },
  {
   "cell_type": "code",
   "execution_count": 67,
   "id": "ac3da340",
   "metadata": {},
   "outputs": [
    {
     "name": "stdout",
     "output_type": "stream",
     "text": [
      "AP ORG [Companies, agencies, institutions, etc.]\n",
      "NewsAP NEWS ORG [Companies, agencies, institutions, etc.]\n",
      "NewsWorld NewsAfricaAsia ORG [Companies, agencies, institutions, etc.]\n",
      "AmericaMiddle EastPoliticsPresident ORG [Companies, agencies, institutions, etc.]\n",
      "CourtSportsMLBWNBA NORP [Nationalities or religious or political groups]\n",
      "environmentOdditiesPhotographyTravelAP Fact CheckLifestyleReligionPress ORG [Companies, agencies, institutions, etc.]\n",
      "copyhttps://apnews.com/article/donald-trump-mar-a-lago-criminal-investigations-government-and-politics-4ee554f467252929f96c70d42a93a05dClick GPE [Countries, cities, states]\n",
      "NewsDonald GPE [Countries, cities, states]\n",
      "ERIC TUCKER PERSON [People, including fictional]\n",
      "MICHAEL PERSON [People, including fictional]\n",
      "26, 2022 GMT1 DATE [Absolute or relative dates or periods]\n",
      "FBI ORG [Companies, agencies, institutions, etc.]\n",
      "Donald Trump's PERSON [People, including fictional]\n"
     ]
    }
   ],
   "source": [
    "for ent in doc[:100].ents:\n",
    "    print(ent.text, ent.label_, '[%s]' %spacy.explain(ent.label_))"
   ]
  },
  {
   "cell_type": "code",
   "execution_count": 64,
   "id": "9fbacaaa",
   "metadata": {},
   "outputs": [],
   "source": [
    "part_article = doc[:200]"
   ]
  },
  {
   "cell_type": "code",
   "execution_count": 65,
   "id": "9deb1513",
   "metadata": {},
   "outputs": [
    {
     "data": {
      "text/html": [
       "<span class=\"tex2jax_ignore\"><div class=\"entities\" style=\"line-height: 2.5; direction: ltr\">Heavily redacted Trump search affidavit released: Live updates | \n",
       "<mark class=\"entity\" style=\"background: #7aecec; padding: 0.45em 0.6em; margin: 0 0.25em; line-height: 1; border-radius: 0.35em;\">\n",
       "    AP\n",
       "    <span style=\"font-size: 0.8em; font-weight: bold; line-height: 1; border-radius: 0.35em; vertical-align: middle; margin-left: 0.5rem\">ORG</span>\n",
       "</mark>\n",
       " \n",
       "<mark class=\"entity\" style=\"background: #7aecec; padding: 0.45em 0.6em; margin: 0 0.25em; line-height: 1; border-radius: 0.35em;\">\n",
       "    NewsAP NEWS\n",
       "    <span style=\"font-size: 0.8em; font-weight: bold; line-height: 1; border-radius: 0.35em; vertical-align: middle; margin-left: 0.5rem\">ORG</span>\n",
       "</mark>\n",
       " ListenSectionsU.S. NewsWorld NewsPoliticsSportsEntertainmentBusinessTechnologyHealthScienceOdditiesLifestylePhotographyVideosListenSectionsAP Top NewsU.S. \n",
       "<mark class=\"entity\" style=\"background: #7aecec; padding: 0.45em 0.6em; margin: 0 0.25em; line-height: 1; border-radius: 0.35em;\">\n",
       "    NewsWorld NewsAfricaAsia\n",
       "    <span style=\"font-size: 0.8em; font-weight: bold; line-height: 1; border-radius: 0.35em; vertical-align: middle; margin-left: 0.5rem\">ORG</span>\n",
       "</mark>\n",
       " PacificAustraliaEuropeLatin \n",
       "<mark class=\"entity\" style=\"background: #7aecec; padding: 0.45em 0.6em; margin: 0 0.25em; line-height: 1; border-radius: 0.35em;\">\n",
       "    AmericaMiddle EastPoliticsPresident\n",
       "    <span style=\"font-size: 0.8em; font-weight: bold; line-height: 1; border-radius: 0.35em; vertical-align: middle; margin-left: 0.5rem\">ORG</span>\n",
       "</mark>\n",
       " BidenMidterm electionsCongressSupreme \n",
       "<mark class=\"entity\" style=\"background: #c887fb; padding: 0.45em 0.6em; margin: 0 0.25em; line-height: 1; border-radius: 0.35em;\">\n",
       "    CourtSportsMLBWNBA\n",
       "    <span style=\"font-size: 0.8em; font-weight: bold; line-height: 1; border-radius: 0.35em; vertical-align: middle; margin-left: 0.5rem\">NORP</span>\n",
       "</mark>\n",
       " PlayoffsNFLNBANHLEntertainmentFilm ReviewsMoviesMusicTelevisionFashionBusinessU.S. economyFinancial marketsTechnologyHealthCOVID-19ScienceMoreClimate and \n",
       "<mark class=\"entity\" style=\"background: #7aecec; padding: 0.45em 0.6em; margin: 0 0.25em; line-height: 1; border-radius: 0.35em;\">\n",
       "    environmentOdditiesPhotographyTravelAP Fact CheckLifestyleReligionPress\n",
       "    <span style=\"font-size: 0.8em; font-weight: bold; line-height: 1; border-radius: 0.35em; vertical-align: middle; margin-left: 0.5rem\">ORG</span>\n",
       "</mark>\n",
       " ReleasesTrending NewsDonald TrumpStudent loansU.S. Open TennisRussia-Ukraine warSearchhttps://apnews.com/article/donald-trump-mar-a-lago-criminal-investigations-government-and-politics-4ee554f467252929f96c70d42a93a05dClick to \n",
       "<mark class=\"entity\" style=\"background: #feca74; padding: 0.45em 0.6em; margin: 0 0.25em; line-height: 1; border-radius: 0.35em;\">\n",
       "    copyhttps://apnews.com/article/donald-trump-mar-a-lago-criminal-investigations-government-and-politics-4ee554f467252929f96c70d42a93a05dClick\n",
       "    <span style=\"font-size: 0.8em; font-weight: bold; line-height: 1; border-radius: 0.35em; vertical-align: middle; margin-left: 0.5rem\">GPE</span>\n",
       "</mark>\n",
       " to copyRelated topicsPoliticsU.S. \n",
       "<mark class=\"entity\" style=\"background: #feca74; padding: 0.45em 0.6em; margin: 0 0.25em; line-height: 1; border-radius: 0.35em;\">\n",
       "    NewsDonald\n",
       "    <span style=\"font-size: 0.8em; font-weight: bold; line-height: 1; border-radius: 0.35em; vertical-align: middle; margin-left: 0.5rem\">GPE</span>\n",
       "</mark>\n",
       " TrumpMar-a-LagoGovernment and politicsFBI: Trump mixed top secret docs with magazines, other itemsBy \n",
       "<mark class=\"entity\" style=\"background: #aa9cfc; padding: 0.45em 0.6em; margin: 0 0.25em; line-height: 1; border-radius: 0.35em;\">\n",
       "    ERIC TUCKER\n",
       "    <span style=\"font-size: 0.8em; font-weight: bold; line-height: 1; border-radius: 0.35em; vertical-align: middle; margin-left: 0.5rem\">PERSON</span>\n",
       "</mark>\n",
       " and \n",
       "<mark class=\"entity\" style=\"background: #aa9cfc; padding: 0.45em 0.6em; margin: 0 0.25em; line-height: 1; border-radius: 0.35em;\">\n",
       "    MICHAEL\n",
       "    <span style=\"font-size: 0.8em; font-weight: bold; line-height: 1; border-radius: 0.35em; vertical-align: middle; margin-left: 0.5rem\">PERSON</span>\n",
       "</mark>\n",
       " BALSAMOAugust \n",
       "<mark class=\"entity\" style=\"background: #bfe1d9; padding: 0.45em 0.6em; margin: 0 0.25em; line-height: 1; border-radius: 0.35em;\">\n",
       "    26, 2022 GMT1\n",
       "    <span style=\"font-size: 0.8em; font-weight: bold; line-height: 1; border-radius: 0.35em; vertical-align: middle; margin-left: 0.5rem\">DATE</span>\n",
       "</mark>\n",
       " of 12Pages from the affidavit by the \n",
       "<mark class=\"entity\" style=\"background: #7aecec; padding: 0.45em 0.6em; margin: 0 0.25em; line-height: 1; border-radius: 0.35em;\">\n",
       "    FBI\n",
       "    <span style=\"font-size: 0.8em; font-weight: bold; line-height: 1; border-radius: 0.35em; vertical-align: middle; margin-left: 0.5rem\">ORG</span>\n",
       "</mark>\n",
       " in support of obtaining a search warrant for former President \n",
       "<mark class=\"entity\" style=\"background: #aa9cfc; padding: 0.45em 0.6em; margin: 0 0.25em; line-height: 1; border-radius: 0.35em;\">\n",
       "    Donald Trump's\n",
       "    <span style=\"font-size: 0.8em; font-weight: bold; line-height: 1; border-radius: 0.35em; vertical-align: middle; margin-left: 0.5rem\">PERSON</span>\n",
       "</mark>\n",
       " Mar-a-Lago estate are photographed \n",
       "<mark class=\"entity\" style=\"background: #bfe1d9; padding: 0.45em 0.6em; margin: 0 0.25em; line-height: 1; border-radius: 0.35em;\">\n",
       "    Friday, Aug. 26, 2022\n",
       "    <span style=\"font-size: 0.8em; font-weight: bold; line-height: 1; border-radius: 0.35em; vertical-align: middle; margin-left: 0.5rem\">DATE</span>\n",
       "</mark>\n",
       ". \n",
       "<mark class=\"entity\" style=\"background: #feca74; padding: 0.45em 0.6em; margin: 0 0.25em; line-height: 1; border-radius: 0.35em;\">\n",
       "    U.S.\n",
       "    <span style=\"font-size: 0.8em; font-weight: bold; line-height: 1; border-radius: 0.35em; vertical-align: middle; margin-left: 0.5rem\">GPE</span>\n",
       "</mark>\n",
       " Magistrate Judge \n",
       "<mark class=\"entity\" style=\"background: #aa9cfc; padding: 0.45em 0.6em; margin: 0 0.25em; line-height: 1; border-radius: 0.35em;\">\n",
       "    Bruce Reinhart\n",
       "    <span style=\"font-size: 0.8em; font-weight: bold; line-height: 1; border-radius: 0.35em; vertical-align: middle; margin-left: 0.5rem\">PERSON</span>\n",
       "</mark>\n",
       " ordered \n",
       "<mark class=\"entity\" style=\"background: #7aecec; padding: 0.45em 0.6em; margin: 0 0.25em; line-height: 1; border-radius: 0.35em;\">\n",
       "    the Justice Department\n",
       "    <span style=\"font-size: 0.8em; font-weight: bold; line-height: 1; border-radius: 0.35em; vertical-align: middle; margin-left: 0.5rem\">ORG</span>\n",
       "</mark>\n",
       " to make public a redacted version of the affidavit it relied on when federal agents searched \n",
       "<mark class=\"entity\" style=\"background: #7aecec; padding: 0.45em 0.6em; margin: 0 0.25em; line-height: 1; border-radius: 0.35em;\">\n",
       "    Trump\n",
       "    <span style=\"font-size: 0.8em; font-weight: bold; line-height: 1; border-radius: 0.35em; vertical-align: middle; margin-left: 0.5rem\">ORG</span>\n",
       "</mark>\n",
       "'s estate to look for classified documents. (\n",
       "<mark class=\"entity\" style=\"background: #7aecec; padding: 0.45em 0.6em; margin: 0 0.25em; line-height: 1; border-radius: 0.35em;\">\n",
       "    AP Photo/Jon Elswick)1 of\n",
       "    <span style=\"font-size: 0.8em; font-weight: bold; line-height: 1; border-radius: 0.35em; vertical-align: middle; margin-left: 0.5rem\">ORG</span>\n",
       "</mark>\n",
       " 12Pages from the affidavit by the \n",
       "<mark class=\"entity\" style=\"background: #7aecec; padding: 0.45em 0.6em; margin: 0 0.25em; line-height: 1; border-radius: 0.35em;\">\n",
       "    FBI\n",
       "    <span style=\"font-size: 0.8em; font-weight: bold; line-height: 1; border-radius: 0.35em; vertical-align: middle; margin-left: 0.5rem\">ORG</span>\n",
       "</mark>\n",
       " in support of obtaining a search warrant for former President \n",
       "<mark class=\"entity\" style=\"background: #aa9cfc; padding: 0.45em 0.6em; margin: 0 0.25em; line-height: 1; border-radius: 0.35em;\">\n",
       "    Donald Trump's\n",
       "    <span style=\"font-size: 0.8em; font-weight: bold; line-height: 1; border-radius: 0.35em; vertical-align: middle; margin-left: 0.5rem\">PERSON</span>\n",
       "</mark>\n",
       " Mar-a-Lago estate are photographed \n",
       "<mark class=\"entity\" style=\"background: #bfe1d9; padding: 0.45em 0.6em; margin: 0 0.25em; line-height: 1; border-radius: 0.35em;\">\n",
       "    Friday, Aug. 26, 2022\n",
       "    <span style=\"font-size: 0.8em; font-weight: bold; line-height: 1; border-radius: 0.35em; vertical-align: middle; margin-left: 0.5rem\">DATE</span>\n",
       "</mark>\n",
       ". \n",
       "<mark class=\"entity\" style=\"background: #feca74; padding: 0.45em 0.6em; margin: 0 0.25em; line-height: 1; border-radius: 0.35em;\">\n",
       "    U.S.\n",
       "    <span style=\"font-size: 0.8em; font-weight: bold; line-height: 1; border-radius: 0.35em; vertical-align: middle; margin-left: 0.5rem\">GPE</span>\n",
       "</mark>\n",
       " Magistrate Judge \n",
       "<mark class=\"entity\" style=\"background: #aa9cfc; padding: 0.45em 0.6em; margin: 0 0.25em; line-height: 1; border-radius: 0.35em;\">\n",
       "    Bruce Reinhart\n",
       "    <span style=\"font-size: 0.8em; font-weight: bold; line-height: 1; border-radius: 0.35em; vertical-align: middle; margin-left: 0.5rem\">PERSON</span>\n",
       "</mark>\n",
       " ordered \n",
       "<mark class=\"entity\" style=\"background: #7aecec; padding: 0.45em 0.6em; margin: 0 0.25em; line-height: 1; border-radius: 0.35em;\">\n",
       "    the Justice Department\n",
       "    <span style=\"font-size: 0.8em; font-weight: bold; line-height: 1; border-radius: 0.35em; vertical-align: middle; margin-left: 0.5rem\">ORG</span>\n",
       "</mark>\n",
       " to make public </div></span>"
      ],
      "text/plain": [
       "<IPython.core.display.HTML object>"
      ]
     },
     "metadata": {},
     "output_type": "display_data"
    }
   ],
   "source": [
    "displacy.render(part_article, style = 'ent')"
   ]
  },
  {
   "cell_type": "code",
   "execution_count": null,
   "id": "1fc34121",
   "metadata": {},
   "outputs": [],
   "source": []
  }
 ],
 "metadata": {
  "kernelspec": {
   "display_name": "Python 3 (ipykernel)",
   "language": "python",
   "name": "python3"
  },
  "language_info": {
   "codemirror_mode": {
    "name": "ipython",
    "version": 3
   },
   "file_extension": ".py",
   "mimetype": "text/x-python",
   "name": "python",
   "nbconvert_exporter": "python",
   "pygments_lexer": "ipython3",
   "version": "3.9.0"
  }
 },
 "nbformat": 4,
 "nbformat_minor": 5
}
