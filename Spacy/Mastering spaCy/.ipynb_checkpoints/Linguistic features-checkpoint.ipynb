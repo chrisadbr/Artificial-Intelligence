{
 "cells": [
  {
   "cell_type": "code",
   "execution_count": 8,
   "id": "0e3a2717",
   "metadata": {},
   "outputs": [],
   "source": [
    "import spacy\n",
    "import pandas as pd\n",
    "nlp = spacy.load('en_core_web_md')"
   ]
  },
  {
   "cell_type": "code",
   "execution_count": 10,
   "id": "390c16da",
   "metadata": {},
   "outputs": [
    {
     "name": "stdout",
     "output_type": "stream",
     "text": [
      "Alicia PROPN proper noun NNP noun, proper singular\n",
      "and CCONJ coordinating conjunction CC conjunction, coordinating\n",
      "me PRON pronoun PRP pronoun, personal\n",
      "went VERB verb VBD verb, past tense\n",
      "to ADP adposition IN conjunction, subordinating or preposition\n",
      "school NOUN noun NN noun, singular or mass\n",
      "by ADP adposition IN conjunction, subordinating or preposition\n",
      "bus NOUN noun NN noun, singular or mass\n",
      ". PUNCT punctuation . punctuation mark, sentence closer\n"
     ]
    }
   ],
   "source": [
    "doc = nlp(\"Alicia and me went to school by bus.\")\n",
    "\n",
    "for token in doc:\n",
    "    print(token.text, token.pos_, spacy.explain(token.pos_), token.tag_, spacy.explain(token.tag_))"
   ]
  },
  {
   "cell_type": "code",
   "execution_count": 11,
   "id": "4d8d5301",
   "metadata": {},
   "outputs": [
    {
     "name": "stdout",
     "output_type": "stream",
     "text": [
      "My PRON PRP$ pronoun pronoun, possessive\n",
      "friend NOUN NN noun noun, singular or mass\n",
      "will AUX MD auxiliary verb, modal auxiliary\n",
      "fly VERB VB verb verb, base form\n",
      "to ADP IN adposition conjunction, subordinating or preposition\n",
      "New PROPN NNP proper noun noun, proper singular\n",
      "York PROPN NNP proper noun noun, proper singular\n",
      "fast ADV RB adverb adverb\n",
      "and CCONJ CC coordinating conjunction conjunction, coordinating\n",
      "she PRON PRP pronoun pronoun, personal\n",
      "is AUX VBZ auxiliary verb, 3rd person singular present\n",
      "staying VERB VBG verb verb, gerund or present participle\n",
      "there ADV RB adverb adverb\n",
      "for ADP IN adposition conjunction, subordinating or preposition\n",
      "3 NUM CD numeral cardinal number\n",
      "days NOUN NNS noun noun, plural\n",
      ". PUNCT . punctuation punctuation mark, sentence closer\n"
     ]
    }
   ],
   "source": [
    "doc2 = nlp(\"My friend will fly to New York fast and she is staying there for 3 days.\")\n",
    "\n",
    "for token in doc2:\n",
    "    print(token.text, token.pos_, token.tag_, \n",
    "         spacy.explain(token.pos_), spacy.explain(token.tag_))"
   ]
  },
  {
   "cell_type": "code",
   "execution_count": 13,
   "id": "3b698356",
   "metadata": {},
   "outputs": [
    {
     "name": "stdout",
     "output_type": "stream",
     "text": [
      "I PRON PRP pronoun, personal\n",
      "will AUX MD verb, modal auxiliary\n",
      "ship VERB VB verb, base form\n",
      "my PRON PRP$ pronoun, possessive\n",
      "the DET DT determiner\n",
      "items NOUN NNS noun, plural\n",
      "tommorow PROPN NNP noun, proper singular\n",
      ". PUNCT . punctuation mark, sentence closer\n",
      "The DET DT determiner\n",
      "ship NOUN NN noun, singular or mass\n",
      "is AUX VBZ verb, 3rd person singular present\n",
      "leaving VERB VBG verb, gerund or present participle\n",
      "tommorow PROPN NNP noun, proper singular\n",
      ". PUNCT . punctuation mark, sentence closer\n"
     ]
    }
   ],
   "source": [
    "## Lets use a word that can be both noun/verb (ship)\n",
    "\n",
    "doc3 = nlp(\"I will ship my the items tommorow. The ship is leaving tommorow.\")\n",
    "for token in doc3:\n",
    "    print(token.text, token.pos_, token.tag_, spacy.explain(token.tag_))"
   ]
  },
  {
   "cell_type": "code",
   "execution_count": 14,
   "id": "bc877643",
   "metadata": {},
   "outputs": [
    {
     "name": "stdout",
     "output_type": "stream",
     "text": [
      "My PRON PRP$ pronoun pronoun, possessive\n",
      "cat NOUN NN noun noun, singular or mass\n",
      "will AUX MD auxiliary verb, modal auxiliary\n",
      "fish VERB VB verb verb, base form\n",
      "for ADP IN adposition conjunction, subordinating or preposition\n",
      "a DET DT determiner determiner\n",
      "fish NOUN NN noun noun, singular or mass\n",
      "tommorow NOUN NN noun noun, singular or mass\n",
      "in ADP IN adposition conjunction, subordinating or preposition\n",
      "a DET DT determiner determiner\n",
      "fishy ADJ JJ adjective adjective (English), other noun-modifier (Chinese)\n",
      "way NOUN NN noun noun, singular or mass\n",
      ". PUNCT . punctuation punctuation mark, sentence closer\n"
     ]
    }
   ],
   "source": [
    "doc4 = nlp(\"My cat will fish for a fish tommorow in a fishy way.\")\n",
    "\n",
    "for token in doc4:\n",
    "    print(token.text, token.pos_, token.tag_, spacy.explain(token.pos_), spacy.explain(token.tag_))"
   ]
  },
  {
   "cell_type": "code",
   "execution_count": null,
   "id": "4907ed66",
   "metadata": {},
   "outputs": [],
   "source": []
  }
 ],
 "metadata": {
  "kernelspec": {
   "display_name": "Python 3 (ipykernel)",
   "language": "python",
   "name": "python3"
  },
  "language_info": {
   "codemirror_mode": {
    "name": "ipython",
    "version": 3
   },
   "file_extension": ".py",
   "mimetype": "text/x-python",
   "name": "python",
   "nbconvert_exporter": "python",
   "pygments_lexer": "ipython3",
   "version": "3.9.0"
  }
 },
 "nbformat": 4,
 "nbformat_minor": 5
}
